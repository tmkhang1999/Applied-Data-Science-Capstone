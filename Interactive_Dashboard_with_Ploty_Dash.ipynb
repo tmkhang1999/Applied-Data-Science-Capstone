{
  "nbformat": 4,
  "nbformat_minor": 0,
  "metadata": {
    "colab": {
      "provenance": [],
      "authorship_tag": "ABX9TyMcpaZCYHnzue956UdWOvDx",
      "include_colab_link": true
    },
    "kernelspec": {
      "name": "python3",
      "display_name": "Python 3"
    },
    "language_info": {
      "name": "python"
    }
  },
  "cells": [
    {
      "cell_type": "markdown",
      "metadata": {
        "id": "view-in-github",
        "colab_type": "text"
      },
      "source": [
        "<a href=\"https://colab.research.google.com/github/tmkhang1999/Applied-Data-Science-Capstone/blob/master/Interactive_Dashboard_with_Ploty_Dash.ipynb\" target=\"_parent\"><img src=\"https://colab.research.google.com/assets/colab-badge.svg\" alt=\"Open In Colab\"/></a>"
      ]
    },
    {
      "cell_type": "code",
      "source": [
        "!wget \"https://cf-courses-data.s3.us.cloud-object-storage.appdomain.cloud/IBM-DS0321EN-SkillsNetwork/datasets/spacex_launch_dash.csv\""
      ],
      "metadata": {
        "id": "cbhKDXc5fxTE"
      },
      "execution_count": null,
      "outputs": []
    },
    {
      "cell_type": "code",
      "execution_count": null,
      "metadata": {
        "id": "HhJTNBd4eTM2"
      },
      "outputs": [],
      "source": [
        "!pip install jupyter-dash -q"
      ]
    },
    {
      "cell_type": "code",
      "source": [
        "# Import required libraries\n",
        "import pandas as pd\n",
        "from jupyter_dash import JupyterDash\n",
        "import dash_html_components as html\n",
        "import dash_core_components as dcc\n",
        "from dash.dependencies import Input, Output\n",
        "import plotly.express as px\n",
        "\n",
        "# Read the airline data into pandas dataframe\n",
        "spacex_df = pd.read_csv(\"spacex_launch_dash.csv\")\n",
        "max_payload = spacex_df['Payload Mass (kg)'].max()\n",
        "min_payload = spacex_df['Payload Mass (kg)'].min()\n",
        "\n",
        "# Create a dash application\n",
        "app = JupyterDash(__name__)\n",
        "\n",
        "# Create an app layout\n",
        "app.layout = html.Div(children=[html.H1('SpaceX Launch Records Dashboard',\n",
        "                                        style={'textAlign': 'center', 'color': '#503D36',\n",
        "                                               'font-size': 40}),\n",
        "                                \n",
        "                                dcc.Dropdown(id='site-dropdown',\n",
        "                                             options=[\n",
        "                                                 {'label': 'All Sites', 'value': 'ALL'},\n",
        "                                                 {'label': 'CCAFS LC-40', 'value': 'CCAFS LC-40'},\n",
        "                                                 {'label': 'VAFB SLC-4E', 'value': 'VAFB SLC-4E'},\n",
        "                                                 {'label': 'KSC LC-39A', 'value': 'KSC LC-39A'},\n",
        "                                                 {'label': 'CCAFS SLC-40', 'value': 'CCAFS SLC-40'}\n",
        "                                                 ],\n",
        "                                             value='ALL',\n",
        "                                             placeholder=\"ZSelect the launch Site\",\n",
        "                                             searchable=True\n",
        "                                             ),\n",
        "                                \n",
        "                                html.Br(),\n",
        "                                html.Div(dcc.Graph(id='success-pie-chart')),\n",
        "                                html.Br(),\n",
        "\n",
        "                                html.P(\"Payload range (Kg):\"),\n",
        "                                dcc.RangeSlider(id='payload-slider',\n",
        "                                                min=0,\n",
        "                                                max=10000,\n",
        "                                                step=1000,\n",
        "                                                value=[min_payload, max_payload]\n",
        "                                                ),\n",
        "                                \n",
        "                                html.Br(),\n",
        "                                html.Div(dcc.Graph(id='success-payload-scatter-chart')),\n",
        "                                ])\n",
        "\n",
        "# TASK 2:\n",
        "# Add a callback function for `site-dropdown` as input, `success-pie-chart` as output\n",
        "@app.callback(Output(component_id='success-pie-chart', component_property='figure'),\n",
        "              Input(component_id='site-dropdown', component_property='value'))\n",
        "\n",
        "def get_pie_chart(entered_site):\n",
        "    if entered_site == 'ALL':\n",
        "        fig = px.pie(spacex_df, \n",
        "                     values='class',\n",
        "                     names='Launch Site',\n",
        "                     title='Total Success Launches for All Launch Site')\n",
        "    else:\n",
        "        filtered_df = spacex_df.groupby(['Launch Site','class']).size().reset_index(name=\"count\")\n",
        "        fig = px.pie(filtered_df[filtered_df['Launch Site'] == entered_site],\n",
        "                     values = \"count\",\n",
        "                     names = \"class\",\n",
        "                     title=f\"Total Success Launches for site {entered_site}\")\n",
        "        \n",
        "    return fig\n",
        "\n",
        "# TASK 4:\n",
        "# Add a callback function for `site-dropdown` and `payload-slider` as inputs, `success-payload-scatter-chart` as output\n",
        "@app.callback(Output(component_id='success-payload-scatter-chart', component_property='figure'),\n",
        "              Input(component_id='site-dropdown', component_property='value'),\n",
        "              Input(component_id='payload-slider', component_property='value'))\n",
        "\n",
        "def get_scatter_chart(entered_site, payload):\n",
        "    filtered_df = spacex_df[spacex_df['Payload Mass (kg)'].between(payload[0],payload[1])]\n",
        "    # thought reusing filtered_df may cause issues, but tried it out of curiosity and it seems to be working fine\n",
        "    \n",
        "    if entered_site=='ALL':\n",
        "        fig=px.scatter(filtered_df,\n",
        "                       x='Payload Mass (kg)',\n",
        "                       y='class',\n",
        "                       color='Booster Version Category',\n",
        "                       title='Success count on Payload mass for all sites')\n",
        "    else:\n",
        "        fig=px.scatter(filtered_df[filtered_df['Launch Site'] == entered_site],\n",
        "                       x='Payload Mass (kg)',\n",
        "                       y='class',\n",
        "                       color='Booster Version Category',\n",
        "                       title=f\"Success count on Payload mass for site {entered_site}\")\n",
        "        \n",
        "    return fig\n",
        "\n",
        "\n",
        "# Run the app\n",
        "if __name__ == '__main__':\n",
        "    app.run_server(mode='inline', host='localhost', port=8000)"
      ],
      "metadata": {
        "colab": {
          "base_uri": "https://localhost:8080/",
          "height": 671
        },
        "id": "C1imoZ-egC_8",
        "outputId": "c1a37d18-7ea9-41dc-9475-99e066dbb92a"
      },
      "execution_count": null,
      "outputs": [
        {
          "output_type": "display_data",
          "data": {
            "text/plain": [
              "<IPython.core.display.Javascript object>"
            ],
            "application/javascript": [
              "(async (port, path, width, height, cache, element) => {\n",
              "    if (!google.colab.kernel.accessAllowed && !cache) {\n",
              "      return;\n",
              "    }\n",
              "    element.appendChild(document.createTextNode(''));\n",
              "    const url = await google.colab.kernel.proxyPort(port, {cache});\n",
              "    const iframe = document.createElement('iframe');\n",
              "    iframe.src = new URL(path, url).toString();\n",
              "    iframe.height = height;\n",
              "    iframe.width = width;\n",
              "    iframe.style.border = 0;\n",
              "    element.appendChild(iframe);\n",
              "  })(8000, \"/\", \"100%\", 650, false, window.element)"
            ]
          },
          "metadata": {}
        }
      ]
    }
  ]
}